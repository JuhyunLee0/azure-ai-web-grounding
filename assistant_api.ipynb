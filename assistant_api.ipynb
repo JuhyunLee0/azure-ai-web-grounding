{
 "cells": [
  {
   "cell_type": "code",
   "execution_count": null,
   "metadata": {},
   "outputs": [],
   "source": [
    "! pip install -r requirements.txt"
   ]
  },
  {
   "cell_type": "code",
   "execution_count": 1,
   "metadata": {},
   "outputs": [
    {
     "data": {
      "text/plain": [
       "True"
      ]
     },
     "execution_count": 1,
     "metadata": {},
     "output_type": "execute_result"
    }
   ],
   "source": [
    "import os\n",
    "import json\n",
    "import requests\n",
    "import time\n",
    "\n",
    "from openai import AzureOpenAI\n",
    "from pathlib import Path\n",
    "from typing import Optional\n",
    "from IPython.display import clear_output\n",
    "\n",
    "from dotenv import load_dotenv\n",
    "\n",
    "load_dotenv(override=True)"
   ]
  },
  {
   "cell_type": "code",
   "execution_count": 2,
   "metadata": {},
   "outputs": [],
   "source": [
    "azure_endpoint = os.getenv(\"AZURE_OPENAI_ENDPOINT\")\n",
    "aoai_api_key = os.getenv(\"AZURE_OPENAI_KEY\")\n",
    "\n",
    "api_version = os.getenv(\"AZURE_OPENAI_API_VERSION\")\n",
    "deployment_name = os.getenv(\"AZURE_OPENAI_DEPLOYMENT_NAME\")\n",
    "\n",
    "bing_search_subscription_key = os.getenv(\"BING_SEARCH_SUBSCRIPTION_KEY\")\n",
    "bing_search_url = f\"{os.getenv('BING_SEARCH_URL')}v7.0/search\""
   ]
  },
  {
   "cell_type": "code",
   "execution_count": 3,
   "metadata": {},
   "outputs": [],
   "source": [
    "def bing_search(query: str) -> list:\n",
    "    \"\"\"\n",
    "    Perform a bing search against the given query\n",
    "\n",
    "    @param query: Search query\n",
    "    @return: List of search results\n",
    "\n",
    "    \"\"\"\n",
    "    headers = {\"Ocp-Apim-Subscription-Key\": bing_search_subscription_key}\n",
    "    params = {\n",
    "        \"q\": query,\n",
    "        \"textDecorations\": False,\n",
    "        # \"customconfig\": \"2711e09d-ea3b-4847-b7f4-d1e6a234745f\"\n",
    "    }\n",
    "    \n",
    "    response = requests.get(bing_search_url, headers=headers, params=params)\n",
    "    response.raise_for_status()\n",
    "    search_results = response.json()\n",
    "\n",
    "    output = []\n",
    "\n",
    "    for result in search_results[\"webPages\"][\"value\"]:\n",
    "        output.append({\"title\": result[\"name\"], \"link\": result[\"url\"], \"snippet\": result[\"snippet\"]})\n",
    "    # print(output)\n",
    "    return json.dumps(output)\n",
    "\n",
    "\n",
    "# bing_search(\"who is the ceo of Goldman Sachs\")"
   ]
  },
  {
   "cell_type": "code",
   "execution_count": 4,
   "metadata": {},
   "outputs": [],
   "source": [
    "\n",
    "client = AzureOpenAI(api_key=aoai_api_key, api_version=api_version, azure_endpoint=azure_endpoint)\n",
    "\n",
    "tools = [\n",
    "    {\n",
    "        \"type\": \"function\",\n",
    "        \"function\": {\n",
    "            \"name\": \"search_bing\",\n",
    "            \"description\": \"Searches bing to get up-to-date information from the web.\",\n",
    "            \"parameters\": {\n",
    "                \"type\": \"object\",\n",
    "                \"properties\": {\n",
    "                    \"query\": {\n",
    "                        \"type\": \"string\",\n",
    "                        \"description\": \"The search query\",\n",
    "                    }\n",
    "                },\n",
    "                \"required\": [\"query\"],\n",
    "            },\n",
    "        },\n",
    "    }\n",
    "]\n",
    "\n",
    "available_functions = {\n",
    "    \"search_bing\": bing_search,\n",
    "}\n",
    "\n",
    "def get_tool_response(messages):\n",
    "    \n",
    "    current_response = client.chat.completions.create(\n",
    "        model=deployment_name,\n",
    "        messages=messages,\n",
    "        tools=tools,\n",
    "        tool_choice=\"auto\",  # auto is default, but we'll be explicit\n",
    "    )\n",
    "\n",
    "    response_message = current_response.choices[0].message\n",
    "    tool_calls = response_message.tool_calls\n",
    "    messages.append(response_message)\n",
    "\n",
    "    is_calling_function = True if tool_calls else False\n",
    "    print(f\"calling function: {is_calling_function}\")\n",
    "\n",
    "    while is_calling_function:\n",
    "\n",
    "        tool_call = tool_calls[0]\n",
    "\n",
    "        function_name = tool_call.function.name\n",
    "        function_to_call = available_functions[function_name]\n",
    "        function_args = json.loads(tool_call.function.arguments)\n",
    "        function_response = function_to_call(**function_args)\n",
    "        messages.append(\n",
    "            {\n",
    "                \"tool_call_id\": tool_call.id,\n",
    "                \"role\": \"tool\",\n",
    "                \"name\": function_name,\n",
    "                \"content\": function_response,\n",
    "            }\n",
    "        )\n",
    "        current_response = client.chat.completions.create(\n",
    "            model=deployment_name,\n",
    "            messages=messages,\n",
    "            tools=tools,\n",
    "            tool_choice=\"auto\",\n",
    "        )\n",
    "        response_message = current_response.choices[0].message\n",
    "        # print(response_message)\n",
    "        messages.append(response_message)\n",
    "        tool_calls = response_message.tool_calls\n",
    "        is_calling_function = True if tool_calls else False\n",
    "    \n",
    "    # print(\"messages:\")\n",
    "    # print(messages[-1].content)\n",
    "\n",
    "    return messages[-1].content\n"
   ]
  },
  {
   "cell_type": "code",
   "execution_count": 5,
   "metadata": {},
   "outputs": [
    {
     "name": "stdout",
     "output_type": "stream",
     "text": [
      "calling function: True\n",
      "The Azure OpenAI GT-4-32k (0314) model has the following specifications:\n",
      "\n",
      "- **Max Request Tokens**: 32,768 tokens\n",
      "- **Training Data**: Up to September 2021\n",
      "\n",
      "For more detailed information, you can refer to the official documentation on [Azure OpenAI Service Models](https://learn.microsoft.com/en-us/azure/ai-services/openai/concepts/models).\n"
     ]
    }
   ],
   "source": [
    "instructions = \"\"\"\n",
    "You are an assistant designed to help people answer questions.\n",
    "You have access to query the web using Bing Search.\n",
    "You should call bing search whenever a question requires up to date information or could benefit from web data.\n",
    "Always include the Citation when looking at bing search with URL.\n",
    "Answer in readable Markdown format.\n",
    "\"\"\"\n",
    "messages = [\n",
    "    {\"role\": \"system\", \"content\": instructions},\n",
    "    {\"role\": \"user\", \"content\": \"What is the Max Request (tokens) and Training Data (up to) for Azure OpenAI gpt-4-32k(0314)?\"},\n",
    "]\n",
    "\n",
    "response = get_tool_response(messages)\n",
    "print(response)"
   ]
  },
  {
   "cell_type": "code",
   "execution_count": 14,
   "metadata": {},
   "outputs": [
    {
     "name": "stdout",
     "output_type": "stream",
     "text": [
      "calling function: False\n",
      "I'm doing great! How can I assist you today?\n"
     ]
    }
   ],
   "source": [
    "messages = [\n",
    "    {\"role\": \"system\", \"content\": instructions},\n",
    "    {\"role\": \"user\", \"content\": \"how are you doing?\"},\n",
    "]\n",
    "\n",
    "response = get_tool_response(messages)\n",
    "print(response)"
   ]
  },
  {
   "cell_type": "code",
   "execution_count": 8,
   "metadata": {},
   "outputs": [
    {
     "name": "stdout",
     "output_type": "stream",
     "text": [
      "calling function: True\n",
      "The current CEO of Goldman Sachs is David Solomon. He has held the position since October 2018. For more details, you can visit his [profile on Goldman Sachs' website](https://www.goldmansachs.com/our-firm/our-people-and-leadership/leadership/executive-officers/david-solomon) or check [Wikipedia](https://en.wikipedia.org/wiki/David_M._Solomon) for additional information.\n"
     ]
    }
   ],
   "source": [
    "messages = [\n",
    "    {\"role\": \"system\", \"content\": instructions},\n",
    "    {\"role\": \"user\", \"content\": \"Who is the CEO of Goldman Sachs?\"},\n",
    "]\n",
    "\n",
    "response = get_tool_response(messages)\n",
    "print(response)"
   ]
  },
  {
   "cell_type": "code",
   "execution_count": 11,
   "metadata": {},
   "outputs": [
    {
     "name": "stdout",
     "output_type": "stream",
     "text": [
      "calling function: True\n",
      "The current Chief Operating Officer (COO) of Goldman Sachs is John Waldron. You can find more details about him and the leadership team on the [Goldman Sachs Leadership](https://www.goldmansachs.com/our-firm/our-people-and-leadership/leadership) page.\n"
     ]
    }
   ],
   "source": [
    "messages = [\n",
    "    {\"role\": \"system\", \"content\": instructions},\n",
    "    {\"role\": \"user\", \"content\": \"Who is the COO of Goldman Sachs?\"},\n",
    "]\n",
    "\n",
    "response = get_tool_response(messages)\n",
    "print(response)"
   ]
  },
  {
   "cell_type": "code",
   "execution_count": 12,
   "metadata": {},
   "outputs": [
    {
     "name": "stdout",
     "output_type": "stream",
     "text": [
      "calling function: True\n",
      "As of the most recent data available, Goldman Sachs has a net worth (market capitalization) of approximately $165.83 billion as of October 2024. This figure represents the company's market cap, which is calculated by multiplying the current stock price by the number of shares outstanding.\n",
      "\n",
      "For more detailed and recent financial information, you can refer to their latest reports and press releases available on the [Goldman Sachs website](https://www.goldmansachs.com/investor-relations/financials/current/annual-reports/2023-annual-report/).\n",
      "\n",
      "[Citation](https://stockanalysis.com/stocks/gs/market-cap/)\n"
     ]
    }
   ],
   "source": [
    "messages = [\n",
    "    {\"role\": \"system\", \"content\": instructions},\n",
    "    {\"role\": \"user\", \"content\": \"What is Goldman Sachs Net worth?\"},\n",
    "]\n",
    "\n",
    "response = get_tool_response(messages)\n",
    "print(response)"
   ]
  },
  {
   "cell_type": "code",
   "execution_count": 23,
   "metadata": {},
   "outputs": [
    {
     "name": "stdout",
     "output_type": "stream",
     "text": [
      "calling function: True\n",
      "Goldman Sachs is actively engaged in several artificial intelligence initiatives. Here are some key highlights:\n",
      "\n",
      "1. **AI Forward 2023**: Goldman Sachs, in partnership with SV Angel, hosted AI Forward 2023 in San Francisco. The event brought together nearly 400 leaders and investors across the tech ecosystem to discuss current AI advancements. The event was headlined by Bill Gates and featured leading experts from various fields to debate the dimensions and future of AI [Source](https://www.goldmansachs.com/what-we-do/investment-banking/insights/articles/ai-forward-2023).\n",
      "\n",
      "2. **Office of Applied Innovation**: Directed by George Lee and Jared Cohen, this office aims to provide insights at the intersection of geopolitics and technology, playing a crucial role in understanding and leveraging AI for strategic benefits [Source](https://www.forbes.com/sites/peterhigh/2023/07/14/goldman-sachs-co-heads-of-applied-innovation-gen-ai-is-the-worlds-greatest-experiment-in-anarchy/).\n",
      "\n",
      "3. **Generative AI Initiatives**: Goldman Sachs has actively examined the economic impacts of generative AI and potential sectors for investment. The bank envisions AI-related investments to be significant, contributing up to 1.5% to annual productivity growth over a decade, potentially lifting global GDP by nearly $7 trillion [Source](https://www.goldmansachs.com/insights/articles/the-generative-world-order-ai-geopolitics-and-power).\n",
      "\n",
      "4. **AI Research & Reports**: Numerous reports have been published focusing on AI's impact on productivity, AI infrastructure investments, and the transformative potential of generative AI [Source](https://www.goldmansachs.com/insights/top-of-mind/generative-ai-hype-or-truly-transformative).\n",
      "\n",
      "5. **Investment in AI Companies**: A significant portion of Goldman Sachs’s strategy revolves around investing in AI startups and infrastructure companies, including notable investments in companies such as Nvidia [Source](https://www.goldmansachs.com/insights/articles/ai-infrastructure-stocks-poised-to-be-next-phase).\n",
      "\n",
      "These initiatives highlight Goldman Sachs's commitment to integrating AI into their operations and leveraging it for broader economic impacts.\n"
     ]
    }
   ],
   "source": [
    "messages = [\n",
    "    {\"role\": \"system\", \"content\": instructions},\n",
    "    {\"role\": \"user\", \"content\": \"What are some of the AI initive within Goldman Sachs?\"},\n",
    "]\n",
    "\n",
    "response = get_tool_response(messages)\n",
    "print(response)"
   ]
  }
 ],
 "metadata": {
  "kernelspec": {
   "display_name": ".venv",
   "language": "python",
   "name": "python3"
  },
  "language_info": {
   "codemirror_mode": {
    "name": "ipython",
    "version": 3
   },
   "file_extension": ".py",
   "mimetype": "text/x-python",
   "name": "python",
   "nbconvert_exporter": "python",
   "pygments_lexer": "ipython3",
   "version": "3.11.9"
  }
 },
 "nbformat": 4,
 "nbformat_minor": 2
}
