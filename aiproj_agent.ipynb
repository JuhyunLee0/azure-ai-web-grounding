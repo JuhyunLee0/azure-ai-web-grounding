{
 "cells": [
  {
   "cell_type": "markdown",
   "metadata": {},
   "source": [
    "This is a notebook version of guide that is shown in Azure AI Service / Agents\n",
    "\n",
    "https://learn.microsoft.com/en-us/azure/ai-services/agents/how-to/tools/bing-grounding?source=recommendations&tabs=python&pivots=overview\n",
    "\n",
    "in order to get the notebook to run correctly, please follow the steps to include bing as api connection.\n",
    "\n",
    "you will also require to \"login\" as part of the token validation to the Azure AI Foundry project."
   ]
  },
  {
   "cell_type": "code",
   "execution_count": null,
   "metadata": {},
   "outputs": [],
   "source": [
    "! pip install -r requirements.txt"
   ]
  },
  {
   "cell_type": "code",
   "execution_count": null,
   "metadata": {},
   "outputs": [],
   "source": [
    "!az logout\n",
    "!az login"
   ]
  },
  {
   "cell_type": "code",
   "execution_count": 8,
   "metadata": {},
   "outputs": [
    {
     "data": {
      "text/plain": [
       "True"
      ]
     },
     "execution_count": 8,
     "metadata": {},
     "output_type": "execute_result"
    }
   ],
   "source": [
    "import os\n",
    "import json\n",
    "\n",
    "from azure.ai.projects import AIProjectClient\n",
    "from azure.identity import DefaultAzureCredential\n",
    "from azure.ai.projects.models import BingGroundingTool, MessageTextContent\n",
    "\n",
    "from dotenv import load_dotenv\n",
    "\n",
    "load_dotenv(override=True)"
   ]
  },
  {
   "cell_type": "markdown",
   "metadata": {},
   "source": [
    "Define project client"
   ]
  },
  {
   "cell_type": "code",
   "execution_count": 9,
   "metadata": {},
   "outputs": [],
   "source": [
    "project_client = AIProjectClient.from_connection_string(\n",
    "    credential=DefaultAzureCredential(),\n",
    "    conn_str=os.environ[\"PROJECT_CONNECTION_STRING\"],\n",
    ")"
   ]
  },
  {
   "cell_type": "markdown",
   "metadata": {},
   "source": [
    "Define Bing API Grounding Tool"
   ]
  },
  {
   "cell_type": "code",
   "execution_count": 11,
   "metadata": {},
   "outputs": [
    {
     "name": "stdout",
     "output_type": "stream",
     "text": [
      "/subscriptions/236600c3-67f1-473c-bc20-f50a678af342/resourceGroups/rg-jhl-aistudio/providers/Microsoft.MachineLearningServices/workspaces/jhl-agent-project/connections/bing-api\n"
     ]
    }
   ],
   "source": [
    "bing_connection = project_client.connections.get(\n",
    "    connection_name=os.environ[\"BING_CONNECTION_NAME\"]\n",
    ")\n",
    "conn_id = bing_connection.id\n",
    "\n",
    "print(conn_id)\n",
    "\n",
    "# Initialize agent bing tool and add the connection id\n",
    "bing = BingGroundingTool(connection_id=conn_id)\n",
    "# print(bing.definitions)\n",
    "\n"
   ]
  },
  {
   "cell_type": "markdown",
   "metadata": {},
   "source": [
    "Running the Agent"
   ]
  },
  {
   "cell_type": "code",
   "execution_count": 12,
   "metadata": {},
   "outputs": [
    {
     "name": "stdout",
     "output_type": "stream",
     "text": [
      "Created agent, ID: asst_8YOSyVp5EY33aFGRrDWdPyUd\n",
      "Created thread, ID: thread_eqVBukOr0XaZ5ac15UcPvcP3\n",
      "Created message, ID: msg_0q3dqS7K8GvonsLoJbrLwr2L\n",
      "Run finished with status: RunStatus.COMPLETED\n",
      "Deleted agent\n",
      "MessageRole.USER: What are some of the top news today?\n",
      "MessageRole.AGENT: Here are some of the top news stories for today, January 10, 2025:\n",
      "\n",
      "1. **California Wildfires**: Multiple wildfires continue to rage across California, with significant damage and several fatalities reported【5†source】【9†source】.\n",
      "2. **Donald Trump's Legal Situation**: President-elect Donald Trump received an unconditional discharge in his New York \"hush money\" trial conviction【5†source】.\n",
      "3. **Meta Ends U.S. Fact-Checking Program**: Meta has announced the termination of its third-party fact-checking initiative for Facebook, Instagram, and Threads, replacing it with a “community notes” model【5†source】.\n",
      "4. **New WSU Football Coach**: Washington State University has introduced a new head football coach【5†source】. \n",
      "\n",
      "These stories highlight significant political, environmental, and sports events occurring today.\n"
     ]
    }
   ],
   "source": [
    "# gpt model deployment name that is available in the foundry project\n",
    "model_deployment_name = \"gpt-4o-jhl-aiproj-agent\"\n",
    "\n",
    "# Create agent with the bing tool and process assistant run\n",
    "with project_client:\n",
    "    agent = project_client.agents.create_agent(\n",
    "        model=model_deployment_name,\n",
    "        name=\"my-assistant\",\n",
    "        instructions=\"You are a helpful assistant, Always use the Bing tool to ground the information.\",\n",
    "        tools=bing.definitions,\n",
    "        headers={\"x-ms-enable-preview\": \"true\"},\n",
    "    )\n",
    "    # [END create_agent_with_bing_grounding_tool]\n",
    "\n",
    "    print(f\"Created agent, ID: {agent.id}\")\n",
    "\n",
    "    # Create thread for communication\n",
    "    thread = project_client.agents.create_thread()\n",
    "    print(f\"Created thread, ID: {thread.id}\")\n",
    "\n",
    "    # Create message to thread\n",
    "    message = project_client.agents.create_message(\n",
    "        thread_id=thread.id,\n",
    "        role=\"user\",\n",
    "        content=\"What are some of the top news today?\",\n",
    "    )\n",
    "    print(f\"Created message, ID: {message.id}\")\n",
    "\n",
    "    # Create and process agent run in thread with tools\n",
    "    run = project_client.agents.create_and_process_run(thread_id=thread.id, assistant_id=agent.id)\n",
    "    print(f\"Run finished with status: {run.status}\")\n",
    "\n",
    "    # Retrieve run step details to get Bing Search query link\n",
    "    # To render the webpage, we recommend you replace the endpoint of Bing search query URLs with `www.bing.com` and your Bing search query URL would look like \"https://www.bing.com/search?q={search query}\"\n",
    "    run_steps = project_client.agents.list_run_steps(run_id=run.id, thread_id=thread.id)\n",
    "    run_steps_data = run_steps['data']\n",
    "    # print(f\"Last run step detail: {run_steps_data}\")\n",
    "\n",
    "    if run.status == \"failed\":\n",
    "        print(f\"Run failed: {run.last_error}\")\n",
    "\n",
    "    # Delete the assistant when done\n",
    "    project_client.agents.delete_agent(agent.id)\n",
    "    print(\"Deleted agent\")\n",
    "\n",
    "    # Fetch and log all messages\n",
    "    messages = project_client.agents.list_messages(thread_id=thread.id)\n",
    "    # print(f\"Messages: {messages}\")\n",
    "\n",
    "    # The messages are following in the reverse order,\n",
    "    # we will iterate them and output only text contents.\n",
    "    for data_point in reversed(messages.data):\n",
    "        last_message_content = data_point.content[-1]\n",
    "        if isinstance(last_message_content, MessageTextContent):\n",
    "            print(f\"{data_point.role}: {last_message_content.text.value}\")"
   ]
  }
 ],
 "metadata": {
  "kernelspec": {
   "display_name": ".venv",
   "language": "python",
   "name": "python3"
  },
  "language_info": {
   "codemirror_mode": {
    "name": "ipython",
    "version": 3
   },
   "file_extension": ".py",
   "mimetype": "text/x-python",
   "name": "python",
   "nbconvert_exporter": "python",
   "pygments_lexer": "ipython3",
   "version": "3.11.9"
  }
 },
 "nbformat": 4,
 "nbformat_minor": 2
}
