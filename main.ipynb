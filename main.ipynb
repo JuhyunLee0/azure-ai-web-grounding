{
 "cells": [
  {
   "cell_type": "code",
   "execution_count": null,
   "metadata": {},
   "outputs": [],
   "source": [
    "! pip install -r requirements.txt"
   ]
  },
  {
   "cell_type": "code",
   "execution_count": 1,
   "metadata": {},
   "outputs": [
    {
     "data": {
      "text/plain": [
       "True"
      ]
     },
     "execution_count": 1,
     "metadata": {},
     "output_type": "execute_result"
    }
   ],
   "source": [
    "import os\n",
    "import json\n",
    "import requests\n",
    "import time\n",
    "\n",
    "from openai import AzureOpenAI\n",
    "from pathlib import Path\n",
    "from typing import Optional\n",
    "from IPython.display import clear_output\n",
    "\n",
    "from dotenv import load_dotenv\n",
    "\n",
    "load_dotenv(override=True)"
   ]
  },
  {
   "cell_type": "code",
   "execution_count": 2,
   "metadata": {},
   "outputs": [],
   "source": [
    "azure_endpoint = os.getenv(\"AZURE_OPENAI_ENDPOINT\")\n",
    "api_version = os.getenv(\"AZURE_OPENAI_API_VERSION\")\n",
    "aoai_api_key = os.getenv(\"AZURE_OPENAI_KEY\")\n",
    "deployment_name = os.getenv(\"AZURE_OPENAI_DEPLOYMENT_NAME\")\n",
    "\n",
    "bing_search_subscription_key = os.getenv(\"BING_SEARCH_SUBSCRIPTION_KEY\")\n",
    "bing_search_url = f\"{os.getenv('BING_SEARCH_URL')}v7.0/search\""
   ]
  },
  {
   "cell_type": "code",
   "execution_count": 3,
   "metadata": {},
   "outputs": [
    {
     "data": {
      "text/plain": [
       "'[{\"title\": \"David Solomon - Goldman Sachs\", \"link\": \"https://www.goldmansachs.com/our-firm/our-people-and-leadership/leadership/executive-officers/david-solomon\", \"snippet\": \"David Solomon. David Solomon is Chairman and Chief Executive Officer and a member of the Board of Directors of The Goldman Sachs Group, Inc. Previously, he was President and Chief Operating Officer and prior to that, he served as Co-Head of the Investment Banking Division from 2006 to 2016. Before that, Mr. Solomon was Global Head of the ...\"}, {\"title\": \"David M. Solomon - Wikipedia\", \"link\": \"https://en.wikipedia.org/wiki/David_M._Solomon\", \"snippet\": \"David Michael Solomon (born c. 1962), known as DJ D-Sol, is an American investment banker and DJ.He is the chief executive officer (CEO) of Goldman Sachs, a position he has held since October 2018.He has also been chairman of the bank since January 2019. [2] Before assuming his role as CEO, Solomon was president and chief operating officer from January 2017 to September 2018, and was joint ...\"}, {\"title\": \"Leadership - Goldman Sachs\", \"link\": \"https://www.goldmansachs.com/our-firm/our-people-and-leadership/leadership\", \"snippet\": \"Chairman and Chief Executive Officer. John E. Waldron. President and Chief Operating Officer. Denis Coleman. Chief Financial Officer. John F.W. Rogers. Executive Vice President. ... Learn more about life at Goldman Sachs and our impact on the communities in which we live and work. Our Purpose and Values. arrow_forward. Our Community Commitments ...\"}, {\"title\": \"Our People and Leadership - Goldman Sachs\", \"link\": \"https://www.goldmansachs.com/our-firm/our-people-and-leadership\", \"snippet\": \"Our people become a part of the Goldman Sachs\\\\u2019 history, and the firm becomes a part of theirs. Our alumni network keeps former colleagues around the world connected to the firm and one another, creating opportunities for business collaboration, thought leadership, and lasting relationships. Sources: As of March 2024.\"}, {\"title\": \"Goldman Sachs vs. David Solomon - New York Magazine\", \"link\": \"https://nymag.com/intelligencer/article/david-solomon-goldman-sachs-profile.html\", \"snippet\": \"David Solomon, the CEO of Goldman Sachs, is facing a banking mutiny amid reports of his mismanagement, arrogance, and extravagance. The article explores his rise, his controversies, and his challenges as the leader of the Wall Street giant.\"}, {\"title\": \"Goldman Sachs CEO David Solomon on Whether Companies Should ... - TIME\", \"link\": \"https://time.com/6157107/david-solomon-goldman-sachs-ceo-interview/\", \"snippet\": \"David Solomon, Goldman Sachs CEO. Goldman Sachs. By John Simons. March 13, 2022 7:00 AM EDT (To receive weekly emails of conversations with the world\\\\u2019s top CEOs and business decisionmakers ...\"}, {\"title\": \"Who is David Solomon, Next CEO of Goldman Sachs? - Investopedia\", \"link\": \"https://www.investopedia.com/news/who-david-solomon-next-ceo-goldman-sachs/\", \"snippet\": \"09:17 AM EDT. According to a press release, Goldman Sachs Group, Inc. (GS) CEO Lloyd Blankfein will retire from his position as chair and chief executive officer of the major bank on September 30 ...\"}, {\"title\": \"Goldman Sachs CEO David Solomon Is Shaking Things Up at Wall ... - Fortune\", \"link\": \"https://fortune.com/longform/goldman-sachs-ceo-david-solomon/\", \"snippet\": \"Goldman is targeting $5 billion in annual revenue from new businesses by the end of 2020, with Marcus on track to generate more than $1 billion. MASS TRANSITION Solomon, shown here in the lobby of ...\"}, {\"title\": \"Lloyd Blankfein - Wikipedia\", \"link\": \"https://en.wikipedia.org/wiki/Lloyd_Blankfein\", \"snippet\": \"Lloyd Craig Blankfein (born September 20, 1954) is an American investment banker who has served as senior chairman of Goldman Sachs since 2019, and chairman and chief executive from 2006 until the end of 2018. [1] Before leading Goldman Sachs, he was the company\\'s president and chief operating officer (COO) from 2004 to 2006, serving under then-CEO Henry Paulson.\"}, {\"title\": \"Factbox: Timeline of Goldman Sachs leaders | Reuters\", \"link\": \"https://www.reuters.com/article/business/factbox-timeline-of-goldman-sachs-leaders-idUSKBN1K71EW/\", \"snippet\": \"Goldman Sachs Group Inc named David Solomon as its next chief executive officer on Tuesday, succeeding Lloyd Blankfein, who has been in the role since 2006.\"}]'"
      ]
     },
     "execution_count": 3,
     "metadata": {},
     "output_type": "execute_result"
    }
   ],
   "source": [
    "def bing_search(query: str) -> list:\n",
    "    \"\"\"\n",
    "    Perform a bing search against the given query\n",
    "\n",
    "    @param query: Search query\n",
    "    @return: List of search results\n",
    "\n",
    "    \"\"\"\n",
    "    headers = {\"Ocp-Apim-Subscription-Key\": bing_search_subscription_key}\n",
    "    params = {\"q\": query, \"textDecorations\": False}\n",
    "    response = requests.get(bing_search_url, headers=headers, params=params)\n",
    "    response.raise_for_status()\n",
    "    search_results = response.json()\n",
    "\n",
    "    output = []\n",
    "\n",
    "    for result in search_results[\"webPages\"][\"value\"]:\n",
    "        output.append({\"title\": result[\"name\"], \"link\": result[\"url\"], \"snippet\": result[\"snippet\"]})\n",
    "\n",
    "    return json.dumps(output)\n",
    "\n",
    "\n",
    "# bing_search(\"who is the ceo of Goldman Sachs\")"
   ]
  },
  {
   "cell_type": "code",
   "execution_count": 5,
   "metadata": {},
   "outputs": [
    {
     "name": "stdout",
     "output_type": "stream",
     "text": [
      "calling function: True\n",
      "messages:\n",
      "The CEO of Goldman Sachs is David M. Solomon. He has held the position since October 2018. [Wikipedia](https://en.wikipedia.org/wiki/David_M._Solomon)\n"
     ]
    }
   ],
   "source": [
    "name = \"websearch-assistant\"\n",
    "instructions = \"\"\"\n",
    "You are an assistant designed to help people answer questions.\n",
    "You have access to query the web using Bing Search.\n",
    "You should call bing search whenever a question requires up to date information or could benefit from web data.\n",
    "Always include the Citation when looking at bing search with URL.\n",
    "Answer in nice Markdown format.\n",
    "\"\"\"\n",
    "\n",
    "messages = [\n",
    "    {\"role\": \"system\", \"content\": instructions},\n",
    "    {\"role\": \"user\", \"content\": \"Who is the CEO of Goldman Sachs?\"},\n",
    "]\n",
    "\n",
    "tools = [\n",
    "    {\n",
    "        \"type\": \"function\",\n",
    "        \"function\": {\n",
    "            \"name\": \"search_bing\",\n",
    "            \"description\": \"Searches bing to get up-to-date information from the web.\",\n",
    "            \"parameters\": {\n",
    "                \"type\": \"object\",\n",
    "                \"properties\": {\n",
    "                    \"query\": {\n",
    "                        \"type\": \"string\",\n",
    "                        \"description\": \"The search query\",\n",
    "                    }\n",
    "                },\n",
    "                \"required\": [\"query\"],\n",
    "            },\n",
    "        },\n",
    "    }\n",
    "]\n",
    "\n",
    "# Note: the JSON response may not always be valid; be sure to handle errors\n",
    "available_functions = {\n",
    "    \"search_bing\": bing_search,\n",
    "}\n",
    "\n",
    "client = AzureOpenAI(api_key=aoai_api_key, api_version=api_version, azure_endpoint=azure_endpoint)\n",
    "\n",
    "current_response = client.chat.completions.create(\n",
    "    model=deployment_name,\n",
    "    messages=messages,\n",
    "    tools=tools,\n",
    "    tool_choice=\"auto\",  # auto is default, but we'll be explicit\n",
    ")\n",
    "# print(current_response)\n",
    "response_message = current_response.choices[0].message\n",
    "tool_calls = response_message.tool_calls\n",
    "messages.append(response_message)\n",
    "\n",
    "is_calling_function = True if tool_calls else False\n",
    "print(f\"calling function: {is_calling_function}\")\n",
    "\n",
    "while is_calling_function:\n",
    "\n",
    "    tool_call = tool_calls[0]\n",
    "\n",
    "    function_name = tool_call.function.name\n",
    "    function_to_call = available_functions[function_name]\n",
    "    function_args = json.loads(tool_call.function.arguments)\n",
    "    function_response = function_to_call(**function_args)\n",
    "    messages.append(\n",
    "        {\n",
    "            \"tool_call_id\": tool_call.id,\n",
    "            \"role\": \"tool\",\n",
    "            \"name\": function_name,\n",
    "            \"content\": function_response,\n",
    "        }\n",
    "    )\n",
    "    current_response = client.chat.completions.create(\n",
    "        model=deployment_name,\n",
    "        messages=messages,\n",
    "        tools=tools,\n",
    "        tool_choice=\"auto\",  # auto is default, but we'll be explicit\n",
    "    )\n",
    "    response_message = current_response.choices[0].message\n",
    "    # print(response_message)\n",
    "    messages.append(response_message)\n",
    "    tool_calls = response_message.tool_calls\n",
    "    is_calling_function = True if tool_calls else False\n",
    "\n",
    "print(\"messages:\")\n",
    "print(messages[-1].content)\n"
   ]
  }
 ],
 "metadata": {
  "kernelspec": {
   "display_name": "Python 3",
   "language": "python",
   "name": "python3"
  },
  "language_info": {
   "codemirror_mode": {
    "name": "ipython",
    "version": 3
   },
   "file_extension": ".py",
   "mimetype": "text/x-python",
   "name": "python",
   "nbconvert_exporter": "python",
   "pygments_lexer": "ipython3",
   "version": "3.11.9"
  }
 },
 "nbformat": 4,
 "nbformat_minor": 2
}
