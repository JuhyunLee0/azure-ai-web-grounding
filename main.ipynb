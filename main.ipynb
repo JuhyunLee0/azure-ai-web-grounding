{
 "cells": [
  {
   "cell_type": "code",
   "execution_count": null,
   "metadata": {},
   "outputs": [],
   "source": [
    "! pip install -r requirements.txt"
   ]
  },
  {
   "cell_type": "code",
   "execution_count": 5,
   "metadata": {},
   "outputs": [
    {
     "data": {
      "text/plain": [
       "True"
      ]
     },
     "execution_count": 5,
     "metadata": {},
     "output_type": "execute_result"
    }
   ],
   "source": [
    "import os\n",
    "import json\n",
    "import requests\n",
    "import time\n",
    "\n",
    "from openai import AzureOpenAI\n",
    "from pathlib import Path\n",
    "from typing import Optional\n",
    "from IPython.display import clear_output\n",
    "\n",
    "from dotenv import load_dotenv\n",
    "\n",
    "load_dotenv(override=True)"
   ]
  },
  {
   "cell_type": "code",
   "execution_count": 6,
   "metadata": {},
   "outputs": [],
   "source": [
    "azure_endpoint = os.getenv(\"AZURE_OPENAI_ENDPOINT\")\n",
    "api_version = os.getenv(\"AZURE_OPENAI_API_VERSION\")\n",
    "aoai_api_key = os.getenv(\"AZURE_OPENAI_KEY\")\n",
    "deployment_name = os.getenv(\"AZURE_OPENAI_DEPLOYMENT_NAME\")\n",
    "\n",
    "bing_search_subscription_key = os.getenv(\"BING_SEARCH_SUBSCRIPTION_KEY\")\n",
    "bing_search_url = f\"{os.getenv('BING_SEARCH_URL')}v7.0/search\""
   ]
  },
  {
   "cell_type": "code",
   "execution_count": 7,
   "metadata": {},
   "outputs": [],
   "source": [
    "def bing_search(query: str) -> list:\n",
    "    \"\"\"\n",
    "    Perform a bing search against the given query\n",
    "\n",
    "    @param query: Search query\n",
    "    @return: List of search results\n",
    "\n",
    "    \"\"\"\n",
    "    headers = {\"Ocp-Apim-Subscription-Key\": bing_search_subscription_key}\n",
    "    params = {\"q\": query, \"textDecorations\": False}\n",
    "    response = requests.get(bing_search_url, headers=headers, params=params)\n",
    "    response.raise_for_status()\n",
    "    search_results = response.json()\n",
    "\n",
    "    output = []\n",
    "\n",
    "    for result in search_results[\"webPages\"][\"value\"]:\n",
    "        output.append({\"title\": result[\"name\"], \"link\": result[\"url\"], \"snippet\": result[\"snippet\"]})\n",
    "\n",
    "    return json.dumps(output)\n",
    "\n",
    "\n",
    "# bing_search(\"who is the ceo of Goldman Sachs\")"
   ]
  },
  {
   "cell_type": "code",
   "execution_count": 8,
   "metadata": {},
   "outputs": [],
   "source": [
    "\n",
    "client = AzureOpenAI(api_key=aoai_api_key, api_version=api_version, azure_endpoint=azure_endpoint)\n",
    "\n",
    "tools = [\n",
    "    {\n",
    "        \"type\": \"function\",\n",
    "        \"function\": {\n",
    "            \"name\": \"search_bing\",\n",
    "            \"description\": \"Searches bing to get up-to-date information from the web.\",\n",
    "            \"parameters\": {\n",
    "                \"type\": \"object\",\n",
    "                \"properties\": {\n",
    "                    \"query\": {\n",
    "                        \"type\": \"string\",\n",
    "                        \"description\": \"The search query\",\n",
    "                    }\n",
    "                },\n",
    "                \"required\": [\"query\"],\n",
    "            },\n",
    "        },\n",
    "    }\n",
    "]\n",
    "\n",
    "available_functions = {\n",
    "    \"search_bing\": bing_search,\n",
    "}\n",
    "\n",
    "def get_tool_response(messages):\n",
    "    \n",
    "    current_response = client.chat.completions.create(\n",
    "        model=deployment_name,\n",
    "        messages=messages,\n",
    "        tools=tools,\n",
    "        tool_choice=\"auto\",  # auto is default, but we'll be explicit\n",
    "    )\n",
    "\n",
    "    response_message = current_response.choices[0].message\n",
    "    tool_calls = response_message.tool_calls\n",
    "    messages.append(response_message)\n",
    "\n",
    "    is_calling_function = True if tool_calls else False\n",
    "    print(f\"calling function: {is_calling_function}\")\n",
    "\n",
    "    while is_calling_function:\n",
    "\n",
    "        tool_call = tool_calls[0]\n",
    "\n",
    "        function_name = tool_call.function.name\n",
    "        function_to_call = available_functions[function_name]\n",
    "        function_args = json.loads(tool_call.function.arguments)\n",
    "        function_response = function_to_call(**function_args)\n",
    "        messages.append(\n",
    "            {\n",
    "                \"tool_call_id\": tool_call.id,\n",
    "                \"role\": \"tool\",\n",
    "                \"name\": function_name,\n",
    "                \"content\": function_response,\n",
    "            }\n",
    "        )\n",
    "        current_response = client.chat.completions.create(\n",
    "            model=deployment_name,\n",
    "            messages=messages,\n",
    "            tools=tools,\n",
    "            tool_choice=\"auto\",\n",
    "        )\n",
    "        response_message = current_response.choices[0].message\n",
    "        # print(response_message)\n",
    "        messages.append(response_message)\n",
    "        tool_calls = response_message.tool_calls\n",
    "        is_calling_function = True if tool_calls else False\n",
    "    \n",
    "    # print(\"messages:\")\n",
    "    # print(messages[-1].content)\n",
    "\n",
    "    return messages[-1].content\n"
   ]
  },
  {
   "cell_type": "code",
   "execution_count": 9,
   "metadata": {},
   "outputs": [
    {
     "name": "stdout",
     "output_type": "stream",
     "text": [
      "calling function: True\n",
      "The current CEO of Goldman Sachs is David M. Solomon. He has held this position since October 2018 and also serves as the chairman of the bank since January 2019.\n",
      "\n",
      "For more information, visit [David M. Solomon's Wikipedia page](https://en.wikipedia.org/wiki/David_M._Solomon) or [his profile on Goldman Sachs' official website](https://www.goldmansachs.com/our-firm/our-people-and-leadership/leadership/executive-officers/david-solomon).\n"
     ]
    }
   ],
   "source": [
    "instructions = \"\"\"\n",
    "You are an assistant designed to help people answer questions.\n",
    "You have access to query the web using Bing Search.\n",
    "You should call bing search whenever a question requires up to date information or could benefit from web data.\n",
    "Always include the Citation when looking at bing search with URL.\n",
    "Answer in nice Markdown format.\n",
    "\"\"\"\n",
    "messages = [\n",
    "    {\"role\": \"system\", \"content\": instructions},\n",
    "    {\"role\": \"user\", \"content\": \"Who is the CEO of Goldman Sachs?\"},\n",
    "]\n",
    "\n",
    "response = get_tool_response(messages)\n",
    "print(response)"
   ]
  },
  {
   "cell_type": "code",
   "execution_count": 10,
   "metadata": {},
   "outputs": [
    {
     "name": "stdout",
     "output_type": "stream",
     "text": [
      "calling function: True\n",
      "The COO of Goldman Sachs is John Waldron.\n",
      "\n",
      "Citation: [Goldman Sachs Leadership](https://www.goldmansachs.com/our-firm/our-people-and-leadership/leadership)\n"
     ]
    }
   ],
   "source": [
    "messages = [\n",
    "    {\"role\": \"system\", \"content\": instructions},\n",
    "    {\"role\": \"user\", \"content\": \"Who is the COO of Goldman Sachs?\"},\n",
    "]\n",
    "\n",
    "response = get_tool_response(messages)\n",
    "print(response)"
   ]
  },
  {
   "cell_type": "code",
   "execution_count": 12,
   "metadata": {},
   "outputs": [
    {
     "name": "stdout",
     "output_type": "stream",
     "text": [
      "calling function: True\n",
      "The net worth of Goldman Sachs as of 2023 cannot be precisely determined from the snippets provided; however, one source mentions that Goldman Sachs has a market capitalization of $167.84 billion as of September 19, 2024. It's important to note that a company's net worth can be understood as its market capitalization, which is the current stock price multiplied by the number of shares outstanding.\n",
      "\n",
      "For the most accurate and latest figures, please refer to [Goldman Sachs' official investor relations website](https://www.goldmansachs.com/investor-relations/financials/current/annual-reports/2023-annual-report/) or financial reporting platforms such as Macrotrends.\n",
      "\n",
      "[Citation - Macrotrends](https://www.macrotrends.net/stocks/charts/GS/goldman-sachs/net-worth)\n"
     ]
    }
   ],
   "source": [
    "messages = [\n",
    "    {\"role\": \"system\", \"content\": instructions},\n",
    "    {\"role\": \"user\", \"content\": \"What is Goldman Sachs Net worth?\"},\n",
    "]\n",
    "\n",
    "response = get_tool_response(messages)\n",
    "print(response)"
   ]
  },
  {
   "cell_type": "code",
   "execution_count": 13,
   "metadata": {},
   "outputs": [
    {
     "name": "stdout",
     "output_type": "stream",
     "text": [
      "calling function: True\n",
      "Goldman Sachs has been actively investing in AI initiatives, aiming to leverage artificial intelligence to bolster their business operations, enhance customer experiences, and contribute to innovation within the financial industry. Some of the AI initiatives and perspectives within Goldman Sachs include:\n",
      "\n",
      "- Research into the impact of generative AI on economic growth, with Goldman Sachs Research estimating that AI could contribute 1.5% to annual productivity growth over a ten-year period, potentially lifting global GDP by nearly $7 trillion. [Link](https://www.goldmansachs.com/insights/articles/the-generative-world-order-ai-geopolitics-and-power)\n",
      "  \n",
      "- Development of generative AI tools, with expectations from Goldman Sachs' Chief Information Officer Marco Argenti that the integration and adaptation of these tools will occur more quickly compared to previous technology waves. This also includes deploying generative AI tools for code generation to developers across the company. [Link](https://www.goldmansachs.com/insights/articles/a-new-generation-of-ai-tools-and-models-is-emerging)\n",
      "\n",
      "- The Goldman Sachs Office of Applied Innovation is actively developing numerous generative AI projects, focusing on experimental and innovative applications of AI within the firm's operations. [Link](https://www.reuters.com/technology/reuters-next-goldman-sachs-developing-dozen-generative-ai-projects-exec-2023-11-09/)\n",
      "\n",
      "- Internal experimentation with ChatGPT-style AI tools to assist Goldman Sachs developers in code writing, indicating a focus on improving efficiency and productivity through AI-assisted programming. [Link](https://www.cnbc.com/2023/03/22/goldman-sachs-experiments-with-chatgpt-like-ai-to-help-devs-write-code.html)\n",
      "\n",
      "- The Goldman Sachs CEO has acknowledged that AI is driving companies, including Goldman Sachs, to reinvent themselves at an unprecedented scale, showing the importance given to AI in strategic business development. [Link](https://fortune.com/2024/04/15/goldman-sachs-ceo-ai-companies-reinvent-unprecedented-scale/)\n",
      "\n",
      "- Reports from Goldman Sachs have also addressed the potential impacts of AI automation on the job market, with particular attention to sectors and jobs that could be most affected by technological advancements. [Link](https://www.cnbc.com/2023/03/28/ai-automation-could-impact-300-million-jobs-heres-which-ones.html)\n",
      "\n",
      "These initiatives suggest that Goldman Sachs is highly invested in exploring and implementing AI innovations to improve their business practices and adapt to the changing technological landscape.\n"
     ]
    }
   ],
   "source": [
    "messages = [\n",
    "    {\"role\": \"system\", \"content\": instructions},\n",
    "    {\"role\": \"user\", \"content\": \"What are some of the AI initive within Goldman Sachs?\"},\n",
    "]\n",
    "\n",
    "response = get_tool_response(messages)\n",
    "print(response)"
   ]
  }
 ],
 "metadata": {
  "kernelspec": {
   "display_name": "Python 3",
   "language": "python",
   "name": "python3"
  },
  "language_info": {
   "codemirror_mode": {
    "name": "ipython",
    "version": 3
   },
   "file_extension": ".py",
   "mimetype": "text/x-python",
   "name": "python",
   "nbconvert_exporter": "python",
   "pygments_lexer": "ipython3",
   "version": "3.11.9"
  }
 },
 "nbformat": 4,
 "nbformat_minor": 2
}
